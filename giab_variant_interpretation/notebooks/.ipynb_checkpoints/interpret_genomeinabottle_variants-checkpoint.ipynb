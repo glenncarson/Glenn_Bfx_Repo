{
 "cells": [
  {
   "cell_type": "markdown",
   "id": "ee2b7e6b-1c19-4786-917e-775900be2d08",
   "metadata": {},
   "source": [
    "# notebook overview\n",
    "- fill this in"
   ]
  },
  {
   "cell_type": "code",
   "execution_count": 8,
   "id": "01deded2-9de1-4512-95c9-ed07ba65767e",
   "metadata": {},
   "outputs": [],
   "source": [
    "# import \n",
    "from pathlib import Path\n",
    "from giab_variant_interpretation.interpret.interpret_giab_variants import download_giab_variants\n",
    "import pandas as pd\n",
    "from matplotlib import pyplot as plt\n",
    "import seaborn as sns\n"
   ]
  },
  {
   "cell_type": "code",
   "execution_count": 2,
   "id": "a91aac5c-1215-4b12-877c-9bcfefe6c971",
   "metadata": {},
   "outputs": [],
   "source": [
    "# args = {\n",
    "#     'output_dir': '/Users/glenn.carson/Coding_Workspace/PycharmProjects/Glenn_Bfx_Repo/analysis',\n",
    "#     'GIAB_samples': ['NA12878'],\n",
    "#     'genome': 'GRCh38',\n",
    "#     'force_overwrite_download_files': False,\n",
    "#     'subdirs' : {'giab_vcf_dir':'giab_files', \n",
    "#                  'clinvar_annotated_files_dir':'clinvar_annotated_files', \n",
    "#                  'analysis_dir': 'analysis_output'}\n",
    "\n",
    "# }"
   ]
  },
  {
   "cell_type": "code",
   "execution_count": 3,
   "id": "335a7182-0215-46ef-a38c-767099adf0cc",
   "metadata": {},
   "outputs": [],
   "source": [
    "# # make output directories\n",
    "# for dir_name in args['subdirs'].values():\n",
    "#     Path(args['output_dir'], dir_name).mkdir(parents=True, exist_ok=True)\n"
   ]
  },
  {
   "cell_type": "code",
   "execution_count": 4,
   "id": "3576afcd-1f03-4120-a564-f5d22573c743",
   "metadata": {},
   "outputs": [
    {
     "name": "stdout",
     "output_type": "stream",
     "text": [
      "Skipping download. File already exists.\n"
     ]
    }
   ],
   "source": [
    "# # download GiaB files. This may take a while.\n",
    "# samples_to_analyze = []\n",
    "\n",
    "# for sample in args['GIAB_samples']:\n",
    "#     sample_vcf_path = ''.join((args['output_dir'], '/', args['subdirs']['giab_vcf_dir'], '/', sample, '.vcf.gz'))\n",
    "#     download_giab_variants(sample, args['genome'], sample_vcf_path, args['force_overwrite_download_files'])\n",
    "#     break\n",
    "#     # samples_to_analyze.append(SampleForAnalysis(sample kwargs))\n",
    "    \n"
   ]
  },
  {
   "cell_type": "code",
   "execution_count": null,
   "id": "338419cc-cadd-4c7d-956c-456eea80d08b",
   "metadata": {},
   "outputs": [],
   "source": [
    "# # annotate the variants\n",
    "# for sample in samples_to_analyze:\n",
    "#     sample.annotate_sample()\n"
   ]
  },
  {
   "cell_type": "code",
   "execution_count": null,
   "id": "686e9fd6-122b-41ff-9c23-3eb286bd23f4",
   "metadata": {},
   "outputs": [],
   "source": [
    "# # summarize the data\n",
    "# analysis_df = CollectSampleData(samples_to_analyze)\n"
   ]
  },
  {
   "cell_type": "code",
   "execution_count": 27,
   "id": "0fef22c3-1c19-4e37-b485-54c1d222dcb7",
   "metadata": {},
   "outputs": [
    {
     "data": {
      "text/html": [
       "<div>\n",
       "<style scoped>\n",
       "    .dataframe tbody tr th:only-of-type {\n",
       "        vertical-align: middle;\n",
       "    }\n",
       "\n",
       "    .dataframe tbody tr th {\n",
       "        vertical-align: top;\n",
       "    }\n",
       "\n",
       "    .dataframe thead th {\n",
       "        text-align: right;\n",
       "    }\n",
       "</style>\n",
       "<table border=\"1\" class=\"dataframe\">\n",
       "  <thead>\n",
       "    <tr style=\"text-align: right;\">\n",
       "      <th></th>\n",
       "      <th>sample</th>\n",
       "      <th>chrom</th>\n",
       "      <th>pos</th>\n",
       "      <th>stop</th>\n",
       "      <th>ref</th>\n",
       "      <th>alts</th>\n",
       "      <th>qual</th>\n",
       "      <th>clinical_significance</th>\n",
       "      <th>clinical_variant</th>\n",
       "      <th>allele_freq_in_EXAC</th>\n",
       "    </tr>\n",
       "  </thead>\n",
       "  <tbody>\n",
       "    <tr>\n",
       "      <th>0</th>\n",
       "      <td>JAS_N36_SNP</td>\n",
       "      <td>chr1</td>\n",
       "      <td>15820</td>\n",
       "      <td>15820</td>\n",
       "      <td>G</td>\n",
       "      <td>T</td>\n",
       "      <td>48.52</td>\n",
       "      <td>No classification</td>\n",
       "      <td>No classification</td>\n",
       "      <td>No classification</td>\n",
       "    </tr>\n",
       "    <tr>\n",
       "      <th>1</th>\n",
       "      <td>JAS_N36_SNP</td>\n",
       "      <td>chr1</td>\n",
       "      <td>16298</td>\n",
       "      <td>16298</td>\n",
       "      <td>C</td>\n",
       "      <td>T</td>\n",
       "      <td>43.77</td>\n",
       "      <td>No classification</td>\n",
       "      <td>No classification</td>\n",
       "      <td>No classification</td>\n",
       "    </tr>\n",
       "  </tbody>\n",
       "</table>\n",
       "</div>"
      ],
      "text/plain": [
       "        sample chrom    pos   stop ref alts   qual clinical_significance  \\\n",
       "0  JAS_N36_SNP  chr1  15820  15820   G    T  48.52     No classification   \n",
       "1  JAS_N36_SNP  chr1  16298  16298   C    T  43.77     No classification   \n",
       "\n",
       "    clinical_variant allele_freq_in_EXAC  \n",
       "0  No classification   No classification  \n",
       "1  No classification   No classification  "
      ]
     },
     "execution_count": 27,
     "metadata": {},
     "output_type": "execute_result"
    }
   ],
   "source": [
    "variants_csv_path = '../../analysis/all_variants.csv'\n",
    "\n",
    "variants_df = pd.read_csv(variants_csv_path).fillna('No classification')\n",
    "variants_df.head(2)"
   ]
  },
  {
   "cell_type": "code",
   "execution_count": 72,
   "id": "8c0dddb0-2c9f-41df-86f6-c31fbfcaf32d",
   "metadata": {},
   "outputs": [],
   "source": [
    "def simplify_interpretation_names(variant):\n",
    "    categorized_variant = variant # if no match, leave as is\n",
    "    if 'pathogenic' in variant or 'Pathogenic' in variant:\n",
    "        categorized_variant = 'Pathogenic'\n",
    "    if 'benign' in variant or 'Benign' in variant or 'protective' in variant:\n",
    "        categorized_variant = 'Benign'\n",
    "    if 'uncertain' in variant or 'Uncertain' in variant:\n",
    "        categorized_variant = 'Uncertain significance'\n",
    "    if 'risk' in variant or 'association' in variant or 'Affects' in variant:\n",
    "        categorized_variant = 'Risk factor'\n",
    "    if 'drug' in variant or 'Drug' in variant:\n",
    "        categorized_variant = 'Drug response'\n",
    "    if 'not_provided' in variant or 'no_classification_for_the_single_variant' in variant:\n",
    "        categorized_variant = 'No classification'\n",
    "    if 'other' in variant or 'confers_sensitivity' in variant:\n",
    "        categorized_variant = 'Other'\n",
    "    return categorized_variant\n",
    "    "
   ]
  },
  {
   "cell_type": "code",
   "execution_count": 73,
   "id": "1e2f485d-4912-4bf2-8821-94e79e934f08",
   "metadata": {},
   "outputs": [
    {
     "data": {
      "text/plain": [
       "simple_interpretations\n",
       "No classification         720775\n",
       "Benign                     53542\n",
       "Uncertain significance       258\n",
       "Pathogenic                   248\n",
       "Risk factor                  114\n",
       "Drug response                 99\n",
       "Other                         23\n",
       "Name: count, dtype: int64"
      ]
     },
     "execution_count": 73,
     "metadata": {},
     "output_type": "execute_result"
    }
   ],
   "source": [
    "variants_df['simple_interpretations'] = variants_df['clinical_significance'].apply(lambda x: simplify_interpretation_names(x))\n",
    "\n",
    "variants_df['simple_interpretations'].value_counts()"
   ]
  },
  {
   "cell_type": "code",
   "execution_count": 74,
   "id": "e3241ca8-861b-4b6d-b580-392e61454e89",
   "metadata": {},
   "outputs": [
    {
     "name": "stdout",
     "output_type": "stream",
     "text": [
      "775059\n"
     ]
    }
   ],
   "source": [
    "print(len(variants_df))"
   ]
  },
  {
   "cell_type": "code",
   "execution_count": 75,
   "id": "fe74b7b1-737a-41cd-a580-aa54c9bd63b3",
   "metadata": {},
   "outputs": [],
   "source": [
    "# plot the data\n",
    "# maybe hide this in library code, but that may be overkill"
   ]
  },
  {
   "cell_type": "code",
   "execution_count": 76,
   "id": "54bf1651-0c40-4908-87f7-6102ab304a69",
   "metadata": {},
   "outputs": [
    {
     "data": {
      "text/plain": [
       "Text(0.5, 0.98, 'Variant Qualities By Sample')"
      ]
     },
     "execution_count": 76,
     "metadata": {},
     "output_type": "execute_result"
    },
    {
     "data": {
      "image/png": "[encoded data removed]",
      "text/plain": [
       "<Figure size 500x480 with 1 Axes>"
      ]
     },
     "metadata": {},
     "output_type": "display_data"
    }
   ],
   "source": [
    "# sns.boxplot(data=variants_df, x='sample', y='qual')\n",
    "\n",
    "fig1, axes1 = plt.subplots(1,1)\n",
    "# fig1.set_width(10, 5) # figure out right syntax for this\n",
    "# sns.boxplot(ax=axes1[0], data=variants_df, x='sample', y='qual')\n",
    "\n",
    "sns.boxplot(ax=axes1, data=variants_df, x='sample', y='qual')\n",
    "axes1.set_ylim(0, 2000)\n",
    "\n",
    "fig1.set_figwidth(5, 5)\n",
    "fig1.suptitle('Variant Qualities By Sample')\n",
    "# axes1.set_title() # figure out syntax\n",
    "\n",
    "# plot with a zoom "
   ]
  },
  {
   "cell_type": "code",
   "execution_count": 85,
   "id": "459cfa93-727e-4d84-8f00-c8a27ae5aa19",
   "metadata": {},
   "outputs": [
    {
     "data": {
      "image/png": "[encoded data removed]",
      "text/plain": [
       "<Figure size 1500x480 with 2 Axes>"
      ]
     },
     "metadata": {},
     "output_type": "display_data"
    }
   ],
   "source": [
    "fig2, axes2 = plt.subplots(1,2, sharex=True)\n",
    "sns.histplot(ax=axes2[0], data=variants_df, x='simple_interpretations')\n",
    "sns.histplot(ax=axes2[1], data=variants_df, x='simple_interpretations')\n",
    "fig2.set_figwidth(15,7)\n",
    "axes2[0].set_ylim(40000,750000)\n",
    "axes2[1].set_ylim(0, 3000)\n",
    "# fix this by splicing both subplots together with different axis (come back to that)\n",
    "\n",
    "axes2[0].spines['bottom'].set_visible(False)\n",
    "axes2[1].spines['top'].set_visible(False)\n",
    "\n",
    "axes2[0].xaxis.tick_top()\n",
    "axes2[0]."
   ]
  },
  {
   "cell_type": "code",
   "execution_count": 25,
   "id": "67ae8315-fec5-4b94-bc1d-5b7ceefefb0c",
   "metadata": {},
   "outputs": [
    {
     "data": {
      "text/plain": [
       "clinical_significance\n",
       "No classification                                                232487\n",
       "('Benign',)                                                       26722\n",
       "('Benign/Likely_benign',)                                           626\n",
       "('Likely_benign',)                                                  528\n",
       "('Conflicting_classifications_of_pathogenicity',)                   120\n",
       "('Uncertain_significance',)                                         107\n",
       "('drug_response',)                                                   43\n",
       "('no_classification_for_the_single_variant',)                        27\n",
       "('risk_factor',)                                                     25\n",
       "('association',)                                                     22\n",
       "('not_provided',)                                                    20\n",
       "('Pathogenic',)                                                       9\n",
       "('other',)                                                            4\n",
       "('Likely_pathogenic',)                                                3\n",
       "('Benign|other',)                                                     2\n",
       "('Affects',)                                                          2\n",
       "('Pathogenic|association|protective',)                                1\n",
       "('Pathogenic/Likely_pathogenic',)                                     1\n",
       "('Likely_benign|drug_response|other',)                                1\n",
       "('Benign|association',)                                               1\n",
       "('Pathogenic|risk_factor',)                                           1\n",
       "('Pathogenic|association',)                                           1\n",
       "('confers_sensitivity',)                                              1\n",
       "('Uncertain_risk_allele',)                                            1\n",
       "('association|drug_response',)                                        1\n",
       "('Benign|drug_response',)                                             1\n",
       "('Benign|risk_factor',)                                               1\n",
       "('Uncertain_risk_allele|risk_factor',)                                1\n",
       "('Conflicting_classifications_of_pathogenicity|risk_factor',)         1\n",
       "('Uncertain_risk_allele|protective',)                                 1\n",
       "('Conflicting_classifications_of_pathogenicity|other',)               1\n",
       "('Affects|association|other',)                                        1\n",
       "('Benign/Likely_benign|other',)                                       1\n",
       "Name: count, dtype: int64"
      ]
     },
     "execution_count": 25,
     "metadata": {},
     "output_type": "execute_result"
    }
   ],
   "source": []
  },
  {
   "cell_type": "code",
   "execution_count": 20,
   "id": "bad3109a-8f5c-4554-af8d-5e070f88c484",
   "metadata": {},
   "outputs": [
    {
     "data": {
      "text/html": [
       "<div>\n",
       "<style scoped>\n",
       "    .dataframe tbody tr th:only-of-type {\n",
       "        vertical-align: middle;\n",
       "    }\n",
       "\n",
       "    .dataframe tbody tr th {\n",
       "        vertical-align: top;\n",
       "    }\n",
       "\n",
       "    .dataframe thead th {\n",
       "        text-align: right;\n",
       "    }\n",
       "</style>\n",
       "<table border=\"1\" class=\"dataframe\">\n",
       "  <thead>\n",
       "    <tr style=\"text-align: right;\">\n",
       "      <th></th>\n",
       "      <th>sample</th>\n",
       "      <th>chrom</th>\n",
       "      <th>pos</th>\n",
       "      <th>stop</th>\n",
       "      <th>ref</th>\n",
       "      <th>alts</th>\n",
       "      <th>qual</th>\n",
       "      <th>clinical_significance</th>\n",
       "      <th>clinical_variant</th>\n",
       "      <th>allele_freq_in_EXAC</th>\n",
       "    </tr>\n",
       "  </thead>\n",
       "  <tbody>\n",
       "    <tr>\n",
       "      <th>0</th>\n",
       "      <td>JAS_N36_SNP</td>\n",
       "      <td>chr1</td>\n",
       "      <td>15820</td>\n",
       "      <td>15820</td>\n",
       "      <td>G</td>\n",
       "      <td>T</td>\n",
       "      <td>48.520000</td>\n",
       "      <td>Unclassified</td>\n",
       "      <td>Unclassified</td>\n",
       "      <td>Unclassified</td>\n",
       "    </tr>\n",
       "    <tr>\n",
       "      <th>1</th>\n",
       "      <td>JAS_N36_SNP</td>\n",
       "      <td>chr1</td>\n",
       "      <td>16298</td>\n",
       "      <td>16298</td>\n",
       "      <td>C</td>\n",
       "      <td>T</td>\n",
       "      <td>43.770000</td>\n",
       "      <td>Unclassified</td>\n",
       "      <td>Unclassified</td>\n",
       "      <td>Unclassified</td>\n",
       "    </tr>\n",
       "    <tr>\n",
       "      <th>2</th>\n",
       "      <td>JAS_N36_SNP</td>\n",
       "      <td>chr1</td>\n",
       "      <td>182686</td>\n",
       "      <td>182686</td>\n",
       "      <td>A</td>\n",
       "      <td>G</td>\n",
       "      <td>402.769989</td>\n",
       "      <td>Unclassified</td>\n",
       "      <td>Unclassified</td>\n",
       "      <td>Unclassified</td>\n",
       "    </tr>\n",
       "    <tr>\n",
       "      <th>3</th>\n",
       "      <td>JAS_N36_SNP</td>\n",
       "      <td>chr1</td>\n",
       "      <td>183598</td>\n",
       "      <td>183598</td>\n",
       "      <td>C</td>\n",
       "      <td>G</td>\n",
       "      <td>153.770004</td>\n",
       "      <td>Unclassified</td>\n",
       "      <td>Unclassified</td>\n",
       "      <td>Unclassified</td>\n",
       "    </tr>\n",
       "    <tr>\n",
       "      <th>4</th>\n",
       "      <td>JAS_N36_SNP</td>\n",
       "      <td>chr1</td>\n",
       "      <td>186427</td>\n",
       "      <td>186427</td>\n",
       "      <td>C</td>\n",
       "      <td>T</td>\n",
       "      <td>85.769997</td>\n",
       "      <td>Unclassified</td>\n",
       "      <td>Unclassified</td>\n",
       "      <td>Unclassified</td>\n",
       "    </tr>\n",
       "    <tr>\n",
       "      <th>...</th>\n",
       "      <td>...</td>\n",
       "      <td>...</td>\n",
       "      <td>...</td>\n",
       "      <td>...</td>\n",
       "      <td>...</td>\n",
       "      <td>...</td>\n",
       "      <td>...</td>\n",
       "      <td>...</td>\n",
       "      <td>...</td>\n",
       "      <td>...</td>\n",
       "    </tr>\n",
       "    <tr>\n",
       "      <th>260759</th>\n",
       "      <td>JAS_N36_SNP</td>\n",
       "      <td>chrUn_GL000218v1</td>\n",
       "      <td>61362</td>\n",
       "      <td>61362</td>\n",
       "      <td>G</td>\n",
       "      <td>T</td>\n",
       "      <td>46.770000</td>\n",
       "      <td>Unclassified</td>\n",
       "      <td>Unclassified</td>\n",
       "      <td>Unclassified</td>\n",
       "    </tr>\n",
       "    <tr>\n",
       "      <th>260760</th>\n",
       "      <td>JAS_N36_SNP</td>\n",
       "      <td>chrUn_GL000218v1</td>\n",
       "      <td>61426</td>\n",
       "      <td>61426</td>\n",
       "      <td>C</td>\n",
       "      <td>T</td>\n",
       "      <td>32.770000</td>\n",
       "      <td>Unclassified</td>\n",
       "      <td>Unclassified</td>\n",
       "      <td>Unclassified</td>\n",
       "    </tr>\n",
       "    <tr>\n",
       "      <th>260761</th>\n",
       "      <td>JAS_N36_SNP</td>\n",
       "      <td>chrUn_GL000218v1</td>\n",
       "      <td>61460</td>\n",
       "      <td>61460</td>\n",
       "      <td>C</td>\n",
       "      <td>T</td>\n",
       "      <td>36.310001</td>\n",
       "      <td>Unclassified</td>\n",
       "      <td>Unclassified</td>\n",
       "      <td>Unclassified</td>\n",
       "    </tr>\n",
       "    <tr>\n",
       "      <th>260762</th>\n",
       "      <td>JAS_N36_SNP</td>\n",
       "      <td>chrUn_GL000218v1</td>\n",
       "      <td>63448</td>\n",
       "      <td>63448</td>\n",
       "      <td>A</td>\n",
       "      <td>C</td>\n",
       "      <td>41.740002</td>\n",
       "      <td>Unclassified</td>\n",
       "      <td>Unclassified</td>\n",
       "      <td>Unclassified</td>\n",
       "    </tr>\n",
       "    <tr>\n",
       "      <th>260763</th>\n",
       "      <td>JAS_N36_SNP</td>\n",
       "      <td>chrUn_GL000218v1</td>\n",
       "      <td>86651</td>\n",
       "      <td>86651</td>\n",
       "      <td>G</td>\n",
       "      <td>C</td>\n",
       "      <td>36.770000</td>\n",
       "      <td>Unclassified</td>\n",
       "      <td>Unclassified</td>\n",
       "      <td>Unclassified</td>\n",
       "    </tr>\n",
       "  </tbody>\n",
       "</table>\n",
       "<p>260764 rows × 10 columns</p>\n",
       "</div>"
      ],
      "text/plain": [
       "             sample             chrom     pos    stop ref alts        qual  \\\n",
       "0       JAS_N36_SNP              chr1   15820   15820   G    T   48.520000   \n",
       "1       JAS_N36_SNP              chr1   16298   16298   C    T   43.770000   \n",
       "2       JAS_N36_SNP              chr1  182686  182686   A    G  402.769989   \n",
       "3       JAS_N36_SNP              chr1  183598  183598   C    G  153.770004   \n",
       "4       JAS_N36_SNP              chr1  186427  186427   C    T   85.769997   \n",
       "...             ...               ...     ...     ...  ..  ...         ...   \n",
       "260759  JAS_N36_SNP  chrUn_GL000218v1   61362   61362   G    T   46.770000   \n",
       "260760  JAS_N36_SNP  chrUn_GL000218v1   61426   61426   C    T   32.770000   \n",
       "260761  JAS_N36_SNP  chrUn_GL000218v1   61460   61460   C    T   36.310001   \n",
       "260762  JAS_N36_SNP  chrUn_GL000218v1   63448   63448   A    C   41.740002   \n",
       "260763  JAS_N36_SNP  chrUn_GL000218v1   86651   86651   G    C   36.770000   \n",
       "\n",
       "       clinical_significance clinical_variant allele_freq_in_EXAC  \n",
       "0               Unclassified     Unclassified        Unclassified  \n",
       "1               Unclassified     Unclassified        Unclassified  \n",
       "2               Unclassified     Unclassified        Unclassified  \n",
       "3               Unclassified     Unclassified        Unclassified  \n",
       "4               Unclassified     Unclassified        Unclassified  \n",
       "...                      ...              ...                 ...  \n",
       "260759          Unclassified     Unclassified        Unclassified  \n",
       "260760          Unclassified     Unclassified        Unclassified  \n",
       "260761          Unclassified     Unclassified        Unclassified  \n",
       "260762          Unclassified     Unclassified        Unclassified  \n",
       "260763          Unclassified     Unclassified        Unclassified  \n",
       "\n",
       "[260764 rows x 10 columns]"
      ]
     },
     "execution_count": 20,
     "metadata": {},
     "output_type": "execute_result"
    }
   ],
   "source": [
    "variants_df.fillna('Unclassified')"
   ]
  },
  {
   "cell_type": "code",
   "execution_count": null,
   "id": "1bfbec23-a748-4d5e-923d-7ed8e34aa558",
   "metadata": {},
   "outputs": [],
   "source": []
  }
 ],
 "metadata": {
  "kernelspec": {
   "display_name": "Python 3 (ipykernel)",
   "language": "python",
   "name": "python3"
  },
  "language_info": {
   "codemirror_mode": {
    "name": "ipython",
    "version": 3
   },
   "file_extension": ".py",
   "mimetype": "text/x-python",
   "name": "python",
   "nbconvert_exporter": "python",
   "pygments_lexer": "ipython3",
   "version": "3.9.18"
  }
 },
 "nbformat": 4,
 "nbformat_minor": 5
}
